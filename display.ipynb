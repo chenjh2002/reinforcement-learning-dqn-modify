{
 "cells": [
  {
   "cell_type": "code",
   "execution_count": 1,
   "metadata": {},
   "outputs": [],
   "source": [
    "import base64\n",
    "from collections import deque\n",
    "import os\n",
    "import pathlib\n",
    "import shutil\n",
    "\n",
    "from IPython import display as ipydisplay\n",
    "import torch\n",
    "\n",
    "from utils_env import MyEnv\n",
    "from utils_drl import Agent"
   ]
  },
  {
   "cell_type": "code",
   "execution_count": 2,
   "metadata": {},
   "outputs": [],
   "source": [
    "target = 1\n",
    "model_name = f\"model_origin_171\"\n",
    "model_path = f\"./save_model/{model_name}\"\n",
    "device = torch.device(\"cpu\")\n",
    "env = MyEnv(device)\n",
    "agent = Agent(env.get_action_dim(), device, 0.99, 0, 0, 0, 1, model_path)"
   ]
  },
  {
   "cell_type": "code",
   "execution_count": 3,
   "metadata": {},
   "outputs": [
    {
     "ename": "AttributeError",
     "evalue": "'numpy.random._generator.Generator' object has no attribute 'randint'",
     "output_type": "error",
     "traceback": [
      "\u001b[1;31m---------------------------------------------------------------------------\u001b[0m",
      "\u001b[1;31mAttributeError\u001b[0m                            Traceback (most recent call last)",
      "Cell \u001b[1;32mIn [3], line 2\u001b[0m\n\u001b[0;32m      1\u001b[0m obs_queue \u001b[38;5;241m=\u001b[39m deque(maxlen\u001b[38;5;241m=\u001b[39m\u001b[38;5;241m5\u001b[39m)\n\u001b[1;32m----> 2\u001b[0m avg_reward, frames \u001b[38;5;241m=\u001b[39m \u001b[43menv\u001b[49m\u001b[38;5;241;43m.\u001b[39;49m\u001b[43mevaluate\u001b[49m\u001b[43m(\u001b[49m\u001b[43mobs_queue\u001b[49m\u001b[43m,\u001b[49m\u001b[43m \u001b[49m\u001b[43magent\u001b[49m\u001b[43m,\u001b[49m\u001b[43m \u001b[49m\u001b[43mrender\u001b[49m\u001b[38;5;241;43m=\u001b[39;49m\u001b[38;5;28;43;01mTrue\u001b[39;49;00m\u001b[43m)\u001b[49m\n\u001b[0;32m      3\u001b[0m \u001b[38;5;28mprint\u001b[39m(\u001b[38;5;124mf\u001b[39m\u001b[38;5;124m\"\u001b[39m\u001b[38;5;124mAvg. Reward: \u001b[39m\u001b[38;5;132;01m{\u001b[39;00mavg_reward\u001b[38;5;132;01m:\u001b[39;00m\u001b[38;5;124m.1f\u001b[39m\u001b[38;5;132;01m}\u001b[39;00m\u001b[38;5;124m\"\u001b[39m)\n\u001b[0;32m      5\u001b[0m get_ipython()\u001b[38;5;241m.\u001b[39msystem(\u001b[38;5;124m'\u001b[39m\u001b[38;5;124mrm -r eval_*\u001b[39m\u001b[38;5;124m'\u001b[39m)\n",
      "File \u001b[1;32me:\\强化学习\\dqn-breakout\\utils_env.py:132\u001b[0m, in \u001b[0;36mMyEnv.evaluate\u001b[1;34m(self, obs_queue, agent, num_episode, render)\u001b[0m\n\u001b[0;32m    <a href='file:///e%3A/%E5%BC%BA%E5%8C%96%E5%AD%A6%E4%B9%A0/dqn-breakout/utils_env.py?line=129'>130</a>\u001b[0m frames \u001b[39m=\u001b[39m []\n\u001b[0;32m    <a href='file:///e%3A/%E5%BC%BA%E5%8C%96%E5%AD%A6%E4%B9%A0/dqn-breakout/utils_env.py?line=130'>131</a>\u001b[0m \u001b[39mfor\u001b[39;00m _ \u001b[39min\u001b[39;00m \u001b[39mrange\u001b[39m(\u001b[39mself\u001b[39m\u001b[39m.\u001b[39mget_eval_lives() \u001b[39m*\u001b[39m num_episode):\n\u001b[1;32m--> <a href='file:///e%3A/%E5%BC%BA%E5%8C%96%E5%AD%A6%E4%B9%A0/dqn-breakout/utils_env.py?line=131'>132</a>\u001b[0m     observations, ep_reward, _frames \u001b[39m=\u001b[39m \u001b[39mself\u001b[39;49m\u001b[39m.\u001b[39;49mreset(render\u001b[39m=\u001b[39;49mrender)\n\u001b[0;32m    <a href='file:///e%3A/%E5%BC%BA%E5%8C%96%E5%AD%A6%E4%B9%A0/dqn-breakout/utils_env.py?line=132'>133</a>\u001b[0m     \u001b[39mfor\u001b[39;00m obs \u001b[39min\u001b[39;00m observations:\n\u001b[0;32m    <a href='file:///e%3A/%E5%BC%BA%E5%8C%96%E5%AD%A6%E4%B9%A0/dqn-breakout/utils_env.py?line=133'>134</a>\u001b[0m         obs_queue\u001b[39m.\u001b[39mappend(obs)\n",
      "File \u001b[1;32me:\\强化学习\\dqn-breakout\\utils_env.py:48\u001b[0m, in \u001b[0;36mMyEnv.reset\u001b[1;34m(self, render)\u001b[0m\n\u001b[0;32m     <a href='file:///e%3A/%E5%BC%BA%E5%8C%96%E5%AD%A6%E4%B9%A0/dqn-breakout/utils_env.py?line=42'>43</a>\u001b[0m \u001b[39mdef\u001b[39;00m \u001b[39mreset\u001b[39m(\n\u001b[0;32m     <a href='file:///e%3A/%E5%BC%BA%E5%8C%96%E5%AD%A6%E4%B9%A0/dqn-breakout/utils_env.py?line=43'>44</a>\u001b[0m         \u001b[39mself\u001b[39m,\n\u001b[0;32m     <a href='file:///e%3A/%E5%BC%BA%E5%8C%96%E5%AD%A6%E4%B9%A0/dqn-breakout/utils_env.py?line=44'>45</a>\u001b[0m         render: \u001b[39mbool\u001b[39m \u001b[39m=\u001b[39m \u001b[39mFalse\u001b[39;00m,\n\u001b[0;32m     <a href='file:///e%3A/%E5%BC%BA%E5%8C%96%E5%AD%A6%E4%B9%A0/dqn-breakout/utils_env.py?line=45'>46</a>\u001b[0m ) \u001b[39m-\u001b[39m\u001b[39m>\u001b[39m Tuple[List[TensorObs], \u001b[39mfloat\u001b[39m, List[GymImg]]:\n\u001b[0;32m     <a href='file:///e%3A/%E5%BC%BA%E5%8C%96%E5%AD%A6%E4%B9%A0/dqn-breakout/utils_env.py?line=46'>47</a>\u001b[0m     \u001b[39m\"\"\"reset resets and initializes the underlying gym environment.\"\"\"\u001b[39;00m\n\u001b[1;32m---> <a href='file:///e%3A/%E5%BC%BA%E5%8C%96%E5%AD%A6%E4%B9%A0/dqn-breakout/utils_env.py?line=47'>48</a>\u001b[0m     \u001b[39mself\u001b[39;49m\u001b[39m.\u001b[39;49m__env\u001b[39m.\u001b[39;49mreset()\n\u001b[0;32m     <a href='file:///e%3A/%E5%BC%BA%E5%8C%96%E5%AD%A6%E4%B9%A0/dqn-breakout/utils_env.py?line=48'>49</a>\u001b[0m     init_reward \u001b[39m=\u001b[39m \u001b[39m0.\u001b[39m\n\u001b[0;32m     <a href='file:///e%3A/%E5%BC%BA%E5%8C%96%E5%AD%A6%E4%B9%A0/dqn-breakout/utils_env.py?line=49'>50</a>\u001b[0m     observations \u001b[39m=\u001b[39m []\n",
      "File \u001b[1;32m~\\.conda\\envs\\pytorch_39\\lib\\site-packages\\gym\\core.py:319\u001b[0m, in \u001b[0;36mObservationWrapper.reset\u001b[1;34m(self, **kwargs)\u001b[0m\n\u001b[0;32m    <a href='file:///c%3A/Users/asus/.conda/envs/pytorch_39/lib/site-packages/gym/core.py?line=317'>318</a>\u001b[0m \u001b[39mdef\u001b[39;00m \u001b[39mreset\u001b[39m(\u001b[39mself\u001b[39m, \u001b[39m*\u001b[39m\u001b[39m*\u001b[39mkwargs):\n\u001b[1;32m--> <a href='file:///c%3A/Users/asus/.conda/envs/pytorch_39/lib/site-packages/gym/core.py?line=318'>319</a>\u001b[0m     observation \u001b[39m=\u001b[39m \u001b[39mself\u001b[39m\u001b[39m.\u001b[39menv\u001b[39m.\u001b[39mreset(\u001b[39m*\u001b[39m\u001b[39m*\u001b[39mkwargs)\n\u001b[0;32m    <a href='file:///c%3A/Users/asus/.conda/envs/pytorch_39/lib/site-packages/gym/core.py?line=319'>320</a>\u001b[0m     \u001b[39mreturn\u001b[39;00m \u001b[39mself\u001b[39m\u001b[39m.\u001b[39mobservation(observation)\n",
      "File \u001b[1;32me:\\强化学习\\dqn-breakout\\vendor\\atari_wrappers.py:75\u001b[0m, in \u001b[0;36mFireResetEnv.reset\u001b[1;34m(self, **kwargs)\u001b[0m\n\u001b[0;32m     <a href='file:///e%3A/%E5%BC%BA%E5%8C%96%E5%AD%A6%E4%B9%A0/dqn-breakout/vendor/atari_wrappers.py?line=73'>74</a>\u001b[0m \u001b[39mdef\u001b[39;00m \u001b[39mreset\u001b[39m(\u001b[39mself\u001b[39m, \u001b[39m*\u001b[39m\u001b[39m*\u001b[39mkwargs):\n\u001b[1;32m---> <a href='file:///e%3A/%E5%BC%BA%E5%8C%96%E5%AD%A6%E4%B9%A0/dqn-breakout/vendor/atari_wrappers.py?line=74'>75</a>\u001b[0m     \u001b[39mself\u001b[39m\u001b[39m.\u001b[39menv\u001b[39m.\u001b[39mreset(\u001b[39m*\u001b[39m\u001b[39m*\u001b[39mkwargs)\n\u001b[0;32m     <a href='file:///e%3A/%E5%BC%BA%E5%8C%96%E5%AD%A6%E4%B9%A0/dqn-breakout/vendor/atari_wrappers.py?line=75'>76</a>\u001b[0m     obs, _, done, _ \u001b[39m=\u001b[39m \u001b[39mself\u001b[39m\u001b[39m.\u001b[39menv\u001b[39m.\u001b[39mstep(\u001b[39m1\u001b[39m)\n\u001b[0;32m     <a href='file:///e%3A/%E5%BC%BA%E5%8C%96%E5%AD%A6%E4%B9%A0/dqn-breakout/vendor/atari_wrappers.py?line=76'>77</a>\u001b[0m     \u001b[39mif\u001b[39;00m done:\n",
      "File \u001b[1;32me:\\强化学习\\dqn-breakout\\vendor\\atari_wrappers.py:117\u001b[0m, in \u001b[0;36mEpisodicLifeEnv.reset\u001b[1;34m(self, **kwargs)\u001b[0m\n\u001b[0;32m    <a href='file:///e%3A/%E5%BC%BA%E5%8C%96%E5%AD%A6%E4%B9%A0/dqn-breakout/vendor/atari_wrappers.py?line=111'>112</a>\u001b[0m \u001b[39m\"\"\"Reset only when lives are exhausted.\u001b[39;00m\n\u001b[0;32m    <a href='file:///e%3A/%E5%BC%BA%E5%8C%96%E5%AD%A6%E4%B9%A0/dqn-breakout/vendor/atari_wrappers.py?line=112'>113</a>\u001b[0m \u001b[39mThis way all states are still reachable even though lives are episodic,\u001b[39;00m\n\u001b[0;32m    <a href='file:///e%3A/%E5%BC%BA%E5%8C%96%E5%AD%A6%E4%B9%A0/dqn-breakout/vendor/atari_wrappers.py?line=113'>114</a>\u001b[0m \u001b[39mand the learner need not know about any of this behind-the-scenes.\u001b[39;00m\n\u001b[0;32m    <a href='file:///e%3A/%E5%BC%BA%E5%8C%96%E5%AD%A6%E4%B9%A0/dqn-breakout/vendor/atari_wrappers.py?line=114'>115</a>\u001b[0m \u001b[39m\"\"\"\u001b[39;00m\n\u001b[0;32m    <a href='file:///e%3A/%E5%BC%BA%E5%8C%96%E5%AD%A6%E4%B9%A0/dqn-breakout/vendor/atari_wrappers.py?line=115'>116</a>\u001b[0m \u001b[39mif\u001b[39;00m \u001b[39mself\u001b[39m\u001b[39m.\u001b[39mwas_real_done:\n\u001b[1;32m--> <a href='file:///e%3A/%E5%BC%BA%E5%8C%96%E5%AD%A6%E4%B9%A0/dqn-breakout/vendor/atari_wrappers.py?line=116'>117</a>\u001b[0m     obs \u001b[39m=\u001b[39m \u001b[39mself\u001b[39m\u001b[39m.\u001b[39menv\u001b[39m.\u001b[39mreset(\u001b[39m*\u001b[39m\u001b[39m*\u001b[39mkwargs)\n\u001b[0;32m    <a href='file:///e%3A/%E5%BC%BA%E5%8C%96%E5%AD%A6%E4%B9%A0/dqn-breakout/vendor/atari_wrappers.py?line=117'>118</a>\u001b[0m \u001b[39melse\u001b[39;00m:\n\u001b[0;32m    <a href='file:///e%3A/%E5%BC%BA%E5%8C%96%E5%AD%A6%E4%B9%A0/dqn-breakout/vendor/atari_wrappers.py?line=118'>119</a>\u001b[0m     \u001b[39m# no-op step to advance from terminal/lost life state\u001b[39;00m\n\u001b[0;32m    <a href='file:///e%3A/%E5%BC%BA%E5%8C%96%E5%AD%A6%E4%B9%A0/dqn-breakout/vendor/atari_wrappers.py?line=119'>120</a>\u001b[0m     obs, _, _, _ \u001b[39m=\u001b[39m \u001b[39mself\u001b[39m\u001b[39m.\u001b[39menv\u001b[39m.\u001b[39mstep(\u001b[39m0\u001b[39m)\n",
      "File \u001b[1;32me:\\强化学习\\dqn-breakout\\vendor\\atari_wrappers.py:154\u001b[0m, in \u001b[0;36mMaxAndSkipEnv.reset\u001b[1;34m(self, **kwargs)\u001b[0m\n\u001b[0;32m    <a href='file:///e%3A/%E5%BC%BA%E5%8C%96%E5%AD%A6%E4%B9%A0/dqn-breakout/vendor/atari_wrappers.py?line=152'>153</a>\u001b[0m \u001b[39mdef\u001b[39;00m \u001b[39mreset\u001b[39m(\u001b[39mself\u001b[39m, \u001b[39m*\u001b[39m\u001b[39m*\u001b[39mkwargs):\n\u001b[1;32m--> <a href='file:///e%3A/%E5%BC%BA%E5%8C%96%E5%AD%A6%E4%B9%A0/dqn-breakout/vendor/atari_wrappers.py?line=153'>154</a>\u001b[0m     \u001b[39mreturn\u001b[39;00m \u001b[39mself\u001b[39m\u001b[39m.\u001b[39menv\u001b[39m.\u001b[39mreset(\u001b[39m*\u001b[39m\u001b[39m*\u001b[39mkwargs)\n",
      "File \u001b[1;32me:\\强化学习\\dqn-breakout\\vendor\\atari_wrappers.py:54\u001b[0m, in \u001b[0;36mNoopResetEnv.reset\u001b[1;34m(self, **kwargs)\u001b[0m\n\u001b[0;32m     <a href='file:///e%3A/%E5%BC%BA%E5%8C%96%E5%AD%A6%E4%B9%A0/dqn-breakout/vendor/atari_wrappers.py?line=51'>52</a>\u001b[0m     noops \u001b[39m=\u001b[39m \u001b[39mself\u001b[39m\u001b[39m.\u001b[39moverride_num_noops\n\u001b[0;32m     <a href='file:///e%3A/%E5%BC%BA%E5%8C%96%E5%AD%A6%E4%B9%A0/dqn-breakout/vendor/atari_wrappers.py?line=52'>53</a>\u001b[0m \u001b[39melse\u001b[39;00m:\n\u001b[1;32m---> <a href='file:///e%3A/%E5%BC%BA%E5%8C%96%E5%AD%A6%E4%B9%A0/dqn-breakout/vendor/atari_wrappers.py?line=53'>54</a>\u001b[0m     noops \u001b[39m=\u001b[39m \u001b[39mself\u001b[39;49m\u001b[39m.\u001b[39;49munwrapped\u001b[39m.\u001b[39;49mnp_random\u001b[39m.\u001b[39;49mrandint(\u001b[39m1\u001b[39m, \u001b[39mself\u001b[39m\u001b[39m.\u001b[39mnoop_max \u001b[39m+\u001b[39m \u001b[39m1\u001b[39m)  \u001b[39m# pylint: disable=E1101\u001b[39;00m\n\u001b[0;32m     <a href='file:///e%3A/%E5%BC%BA%E5%8C%96%E5%AD%A6%E4%B9%A0/dqn-breakout/vendor/atari_wrappers.py?line=54'>55</a>\u001b[0m \u001b[39massert\u001b[39;00m noops \u001b[39m>\u001b[39m \u001b[39m0\u001b[39m\n\u001b[0;32m     <a href='file:///e%3A/%E5%BC%BA%E5%8C%96%E5%AD%A6%E4%B9%A0/dqn-breakout/vendor/atari_wrappers.py?line=55'>56</a>\u001b[0m obs \u001b[39m=\u001b[39m \u001b[39mNone\u001b[39;00m\n",
      "\u001b[1;31mAttributeError\u001b[0m: 'numpy.random._generator.Generator' object has no attribute 'randint'"
     ]
    }
   ],
   "source": [
    "obs_queue = deque(maxlen=5)\n",
    "avg_reward, frames = env.evaluate(obs_queue, agent, render=True)\n",
    "print(f\"Avg. Reward: {avg_reward:.1f}\")\n",
    "\n",
    "!rm -r eval_*\n",
    "target_dir = f\"eval_{target:03d}\"\n",
    "os.mkdir(target_dir)\n",
    "for ind, frame in enumerate(frames):\n",
    "    frame.save(os.path.join(target_dir, f\"{ind:06d}.png\"), format=\"png\")"
   ]
  },
  {
   "cell_type": "code",
   "execution_count": null,
   "metadata": {},
   "outputs": [],
   "source": [
    "path_to_mp4 = os.path.join(target_dir, \"movie.mp4\")"
   ]
  },
  {
   "cell_type": "code",
   "execution_count": null,
   "metadata": {},
   "outputs": [],
   "source": [
    "if not os.path.exists(path_to_mp4):\n",
    "    shutil.move(target_dir, \"tmp_eval_frames\")\n",
    "    # Generate an mp4 video from the frames\n",
    "    !ffmpeg -i \"./tmp_eval_frames/%06d.png\" -pix_fmt yuv420p -y ./tmp_eval_movie.mp4 > /dev/null 2>&1\n",
    "    !rm -r tmp_eval_frames\n",
    "    os.mkdir(target_dir)\n",
    "    shutil.move(\"tmp_eval_movie.mp4\", path_to_mp4)"
   ]
  },
  {
   "cell_type": "code",
   "execution_count": null,
   "metadata": {},
   "outputs": [],
   "source": [
    "HTML_TEMPLATE = \"\"\"<video alt=\"{alt}\" autoplay loop controls style=\"height: 400px;\">\n",
    "  <source src=\"data:video/mp4;base64,{data}\" type=\"video/mp4\" />\n",
    "</video>\"\"\"\n",
    "\n",
    "def show_video(path_to_mp4: str) -> None:\n",
    "    \"\"\"show_video creates an HTML element to display the given mp4 video in IPython.\"\"\"\n",
    "    mp4 = pathlib.Path(path_to_mp4)\n",
    "    video_b64 = base64.b64encode(mp4.read_bytes())\n",
    "    html = HTML_TEMPLATE.format(alt=mp4, data=video_b64.decode('ascii'))\n",
    "    ipydisplay.display(ipydisplay.HTML(data=html))"
   ]
  },
  {
   "cell_type": "code",
   "execution_count": null,
   "metadata": {},
   "outputs": [],
   "source": [
    "show_video(path_to_mp4)"
   ]
  },
  {
   "cell_type": "code",
   "execution_count": null,
   "metadata": {},
   "outputs": [],
   "source": []
  }
 ],
 "metadata": {
  "kernelspec": {
   "display_name": "Python 3",
   "language": "python",
   "name": "python3"
  },
  "language_info": {
   "codemirror_mode": {
    "name": "ipython",
    "version": 3
   },
   "file_extension": ".py",
   "mimetype": "text/x-python",
   "name": "python",
   "nbconvert_exporter": "python",
   "pygments_lexer": "ipython3",
   "version": "3.9.7"
  }
 },
 "nbformat": 4,
 "nbformat_minor": 4
}
